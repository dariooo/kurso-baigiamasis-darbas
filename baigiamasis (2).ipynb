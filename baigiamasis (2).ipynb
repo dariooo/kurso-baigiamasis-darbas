{
 "cells": [
  {
   "cell_type": "code",
   "execution_count": 1,
   "id": "8d121e80-6bc9-4b3f-b040-c1c480df68c5",
   "metadata": {},
   "outputs": [],
   "source": [
    "import requests\n",
    "from bs4 import BeautifulSoup\n",
    "import pandas as pd\n",
    "import sqlite3\n",
    "import sqlalchemy\n",
    "from sqlalchemy import create_engine\n",
    "from sqlalchemy.orm import sessionmaker\n",
    "\n"
   ]
  },
  {
   "cell_type": "code",
   "execution_count": 2,
   "id": "4b153781-acd0-4438-8d34-a0df58292b77",
   "metadata": {},
   "outputs": [],
   "source": [
    "years =list(range(2001 ,2022))\n",
    "url_data =\"https://admin.euroleague.net/main/statistics?mode=Leaders&entity=Players&seasonmode=Single&seasoncode=E{}&cat=Score&agg=Accumulated\"\n"
   ]
  },
  {
   "cell_type": "code",
   "execution_count": 3,
   "id": "221a5340-fc60-4ced-951a-0ceea5a70a35",
   "metadata": {
    "tags": []
   },
   "outputs": [],
   "source": [
    "def receive_htmls_data_from_web():\n",
    "    for year in years :\n",
    "        url = url_data.format(year)\n",
    "        data = requests.get(url)\n",
    "        with open(\"admin_euroleague/{}.html\".format(year), \"w+\" , encoding=\"utf-8\") as file :\n",
    "         file.write(data.text)\n",
    "    "
   ]
  },
  {
   "cell_type": "code",
   "execution_count": 4,
   "id": "558e6d66-d7db-43ff-991d-8266f686285a",
   "metadata": {},
   "outputs": [],
   "source": [
    "def search_true_htmls():\n",
    " with open (\"admin_euroleague/2001.html\",encoding=\"utf-8\") as f :\n",
    "    page =f.read()\n",
    "    soup = BeautifulSoup(page, \"html.parser\")\n",
    "    soup.find('tr',class_=\"stats-results\")\n",
    "    return soup\n",
    "    "
   ]
  },
  {
   "cell_type": "code",
   "execution_count": 5,
   "id": "03facb62-f33a-4abe-981b-735716549c44",
   "metadata": {},
   "outputs": [],
   "source": [
    "def make_data_visible(soup):\n",
    "     statistics_table=soup.find(id=\"ctl00_ctl00_ctl00_ctl00_maincontainer_maincontent_contentpane_ctl01_stats_results\")\n",
    "     leaders_2001= pd.read_html(str(statistics_table))[0]\n",
    "     return(leaders_2001)\n",
    "  \n",
    "         \n",
    "  "
   ]
  },
  {
   "cell_type": "code",
   "execution_count": 6,
   "id": "85e91ebb-440d-4227-ac25-038908f0dadd",
   "metadata": {},
   "outputs": [],
   "source": [
    "def leaders_2001():\n",
    "    pass\n"
   ]
  },
  {
   "cell_type": "code",
   "execution_count": 7,
   "id": "bd7ad977-1abb-493b-9a62-8d41f5fcbee6",
   "metadata": {},
   "outputs": [
    {
     "name": "stdout",
     "output_type": "stream",
     "text": [
      "<function leaders_2001 at 0x0000021E11938C10>\n"
     ]
    }
   ],
   "source": [
    "print(leaders_2001)"
   ]
  },
  {
   "cell_type": "code",
   "execution_count": 10,
   "id": "dd72c0b8-338f-41fe-bdde-0f763ebe73a3",
   "metadata": {},
   "outputs": [],
   "source": [
    "\n",
    "engine = create_engine('sqlite:///scorers_01')\n",
    "Session = sessionmaker(bind=engine)\n",
    "session = Session()\n"
   ]
  },
  {
   "cell_type": "code",
   "execution_count": 11,
   "id": "11dd4b20-6753-4732-89ed-e4ef7fcef489",
   "metadata": {},
   "outputs": [
    {
     "ename": "AttributeError",
     "evalue": "'function' object has no attribute 'to_sql'",
     "output_type": "error",
     "traceback": [
      "\u001b[1;31m---------------------------------------------------------------------------\u001b[0m",
      "\u001b[1;31mAttributeError\u001b[0m                            Traceback (most recent call last)",
      "\u001b[1;32mc:\\Users\\oki\\Desktop\\Baigiamasis darbas\\baigiamasis (2).ipynb Cell 11'\u001b[0m in \u001b[0;36m<cell line: 1>\u001b[1;34m()\u001b[0m\n\u001b[1;32m----> <a href='vscode-notebook-cell:/c%3A/Users/oki/Desktop/Baigiamasis%20darbas/baigiamasis%20%282%29.ipynb#ch0000010?line=0'>1</a>\u001b[0m leaders_2001\u001b[39m.\u001b[39;49mto_sql(\n\u001b[0;32m      <a href='vscode-notebook-cell:/c%3A/Users/oki/Desktop/Baigiamasis%20darbas/baigiamasis%20%282%29.ipynb#ch0000010?line=1'>2</a>\u001b[0m     name \u001b[39m=\u001b[39m \u001b[39m\"\u001b[39m\u001b[39mscorers_01\u001b[39m\u001b[39m\"\u001b[39m ,\n\u001b[0;32m      <a href='vscode-notebook-cell:/c%3A/Users/oki/Desktop/Baigiamasis%20darbas/baigiamasis%20%282%29.ipynb#ch0000010?line=2'>3</a>\u001b[0m     con \u001b[39m=\u001b[39m engine , \n\u001b[0;32m      <a href='vscode-notebook-cell:/c%3A/Users/oki/Desktop/Baigiamasis%20darbas/baigiamasis%20%282%29.ipynb#ch0000010?line=3'>4</a>\u001b[0m     index \u001b[39m=\u001b[39m \u001b[39mFalse\u001b[39;00m ,\n\u001b[0;32m      <a href='vscode-notebook-cell:/c%3A/Users/oki/Desktop/Baigiamasis%20darbas/baigiamasis%20%282%29.ipynb#ch0000010?line=4'>5</a>\u001b[0m     if_exists \u001b[39m=\u001b[39m \u001b[39m\"\u001b[39m\u001b[39mappend\u001b[39m\u001b[39m\"\u001b[39m\n\u001b[0;32m      <a href='vscode-notebook-cell:/c%3A/Users/oki/Desktop/Baigiamasis%20darbas/baigiamasis%20%282%29.ipynb#ch0000010?line=5'>6</a>\u001b[0m )\n",
      "\u001b[1;31mAttributeError\u001b[0m: 'function' object has no attribute 'to_sql'"
     ]
    }
   ],
   "source": [
    "leaders_2001.to_sql(\n",
    "    name = \"scorers_01\" ,\n",
    "    con = engine , \n",
    "    index = False ,\n",
    "    if_exists = \"append\"\n",
    ")\n"
   ]
  },
  {
   "cell_type": "code",
   "execution_count": 10,
   "id": "9620c9a0-78d4-4a79-8177-c4ca4edfebbe",
   "metadata": {},
   "outputs": [],
   "source": [
    "\n",
    "#engine = create_engine('sqlite:///2003_leaders.db')\n",
    "#Session = sessionmaker(bind=engine)\n",
    "#session = Session()\n"
   ]
  },
  {
   "cell_type": "code",
   "execution_count": 11,
   "id": "b4428aa6-9436-4f1b-8316-37e2cd1aedda",
   "metadata": {},
   "outputs": [],
   "source": [
    "#leaders_2001.to_sql(\n",
    "   # name = \"2003_leaders\" ,\n",
    "   # con = engine , \n",
    "    #index = False ,\n",
    "    #if_exists = \"append\"\n",
    "#)"
   ]
  },
  {
   "cell_type": "code",
   "execution_count": 37,
   "id": "544860ac-9dcb-4598-9a5e-53cdaec33fcf",
   "metadata": {},
   "outputs": [],
   "source": [
    "dfs = []\n",
    "for year in years :\n",
    "    with open (\"admin_euroleague/{}.html\".format(year),encoding=\"utf-8\") as f :\n",
    "        page =f.read()\n",
    "        soup = BeautifulSoup(page, \"html.parser\")\n",
    "        soup.find('tr',class_=\"StatsHeaderGridResults\")\n",
    "        statistics_table=soup.find(id=\"ctl00_ctl00_ctl00_ctl00_maincontainer_maincontent_contentpane_ctl01_ctl01_gvResults\")\n",
    "        leaders_2001= pd.read_html(str(statistics_table))[0]\n",
    "        leaders_2001[\"Year\"] = year\n",
    "        dfs.append(leaders_2001)\n",
    "        \n",
    "    \n",
    "    \n",
    "    \n",
    "\n"
   ]
  },
  {
   "cell_type": "code",
   "execution_count": 38,
   "id": "c1771c67",
   "metadata": {},
   "outputs": [
    {
     "data": {
      "text/html": [
       "<div>\n",
       "<style scoped>\n",
       "    .dataframe tbody tr th:only-of-type {\n",
       "        vertical-align: middle;\n",
       "    }\n",
       "\n",
       "    .dataframe tbody tr th {\n",
       "        vertical-align: top;\n",
       "    }\n",
       "\n",
       "    .dataframe thead th {\n",
       "        text-align: right;\n",
       "    }\n",
       "</style>\n",
       "<table border=\"1\" class=\"dataframe\">\n",
       "  <thead>\n",
       "    <tr style=\"text-align: right;\">\n",
       "      <th></th>\n",
       "      <th>Rank</th>\n",
       "      <th>Player</th>\n",
       "      <th>Team</th>\n",
       "      <th>GamesG</th>\n",
       "      <th>PointsPTS</th>\n",
       "      <th>Ave.</th>\n",
       "      <th>Per 40 min.40m</th>\n",
       "      <th>Year</th>\n",
       "    </tr>\n",
       "  </thead>\n",
       "  <tbody>\n",
       "    <tr>\n",
       "      <th>0</th>\n",
       "      <td>1</td>\n",
       "      <td>FORD, ALPHONSOFORD, A.</td>\n",
       "      <td>OLYOlympiacosOlympiacos</td>\n",
       "      <td>20</td>\n",
       "      <td>495</td>\n",
       "      <td>24.75</td>\n",
       "      <td>28.09</td>\n",
       "      <td>2001</td>\n",
       "    </tr>\n",
       "    <tr>\n",
       "      <th>1</th>\n",
       "      <td>2</td>\n",
       "      <td>BODIROGA, DEJANBODIROGA, D.</td>\n",
       "      <td>PAOPanathinaikos AthensPanathinaikos Athens</td>\n",
       "      <td>22</td>\n",
       "      <td>441</td>\n",
       "      <td>20.05</td>\n",
       "      <td>24.83</td>\n",
       "      <td>2001</td>\n",
       "    </tr>\n",
       "    <tr>\n",
       "      <th>2</th>\n",
       "      <td>3</td>\n",
       "      <td>GIRICEK, GORDANGIRICEK, G.</td>\n",
       "      <td>CSKCSKA MoscowCSKA Moscow</td>\n",
       "      <td>18</td>\n",
       "      <td>413</td>\n",
       "      <td>22.94</td>\n",
       "      <td>26.76</td>\n",
       "      <td>2001</td>\n",
       "    </tr>\n",
       "    <tr>\n",
       "      <th>3</th>\n",
       "      <td>4</td>\n",
       "      <td>FUCKA, GREGORFUCKA, G.</td>\n",
       "      <td>FORSkipper BolognaSkipper Bologna</td>\n",
       "      <td>20</td>\n",
       "      <td>381</td>\n",
       "      <td>19.05</td>\n",
       "      <td>23.88</td>\n",
       "      <td>2001</td>\n",
       "    </tr>\n",
       "    <tr>\n",
       "      <th>4</th>\n",
       "      <td>5</td>\n",
       "      <td>AVLEEV, RUSLANAVLEEV, R.</td>\n",
       "      <td>PEMUral GreatUral Great</td>\n",
       "      <td>20</td>\n",
       "      <td>372</td>\n",
       "      <td>18.60</td>\n",
       "      <td>24.90</td>\n",
       "      <td>2001</td>\n",
       "    </tr>\n",
       "    <tr>\n",
       "      <th>...</th>\n",
       "      <td>...</td>\n",
       "      <td>...</td>\n",
       "      <td>...</td>\n",
       "      <td>...</td>\n",
       "      <td>...</td>\n",
       "      <td>...</td>\n",
       "      <td>...</td>\n",
       "      <td>...</td>\n",
       "    </tr>\n",
       "    <tr>\n",
       "      <th>45</th>\n",
       "      <td>46</td>\n",
       "      <td>DOBRIC, OGNJENDOBRIC, O.</td>\n",
       "      <td>CZVCrvena Zvezda mts BelgradeCrvena Zvezda mts...</td>\n",
       "      <td>29</td>\n",
       "      <td>299</td>\n",
       "      <td>10.31</td>\n",
       "      <td>18.25</td>\n",
       "      <td>2021</td>\n",
       "    </tr>\n",
       "    <tr>\n",
       "      <th>46</th>\n",
       "      <td>47</td>\n",
       "      <td>CLYBURN, WILLCLYBURN, W.</td>\n",
       "      <td>CSKCSKA MoscowCSKA Moscow</td>\n",
       "      <td>20</td>\n",
       "      <td>298</td>\n",
       "      <td>14.90</td>\n",
       "      <td>21.14</td>\n",
       "      <td>2021</td>\n",
       "    </tr>\n",
       "    <tr>\n",
       "      <th>47</th>\n",
       "      <td>47</td>\n",
       "      <td>PAPAGIANNIS, GEORGIOSPAPAGIANNIS, G.</td>\n",
       "      <td>PAOPanathinaikos OPAP AthensPanathinaikos OPAP...</td>\n",
       "      <td>29</td>\n",
       "      <td>298</td>\n",
       "      <td>10.28</td>\n",
       "      <td>14.47</td>\n",
       "      <td>2021</td>\n",
       "    </tr>\n",
       "    <tr>\n",
       "      <th>48</th>\n",
       "      <td>49</td>\n",
       "      <td>KURIC, KYLEKURIC, K.</td>\n",
       "      <td>BARFC BarcelonaFC Barcelona</td>\n",
       "      <td>37</td>\n",
       "      <td>292</td>\n",
       "      <td>7.89</td>\n",
       "      <td>15.68</td>\n",
       "      <td>2021</td>\n",
       "    </tr>\n",
       "    <tr>\n",
       "      <th>49</th>\n",
       "      <td>49</td>\n",
       "      <td>HALL, DONTAHALL, D.</td>\n",
       "      <td>ASMAS MonacoAS Monaco</td>\n",
       "      <td>35</td>\n",
       "      <td>292</td>\n",
       "      <td>8.34</td>\n",
       "      <td>18.06</td>\n",
       "      <td>2021</td>\n",
       "    </tr>\n",
       "  </tbody>\n",
       "</table>\n",
       "<p>1050 rows × 8 columns</p>\n",
       "</div>"
      ],
      "text/plain": [
       "    Rank                                Player  \\\n",
       "0      1                FORD, ALPHONSOFORD, A.   \n",
       "1      2           BODIROGA, DEJANBODIROGA, D.   \n",
       "2      3            GIRICEK, GORDANGIRICEK, G.   \n",
       "3      4                FUCKA, GREGORFUCKA, G.   \n",
       "4      5              AVLEEV, RUSLANAVLEEV, R.   \n",
       "..   ...                                   ...   \n",
       "45    46              DOBRIC, OGNJENDOBRIC, O.   \n",
       "46    47              CLYBURN, WILLCLYBURN, W.   \n",
       "47    47  PAPAGIANNIS, GEORGIOSPAPAGIANNIS, G.   \n",
       "48    49                  KURIC, KYLEKURIC, K.   \n",
       "49    49                   HALL, DONTAHALL, D.   \n",
       "\n",
       "                                                 Team  GamesG  PointsPTS  \\\n",
       "0                             OLYOlympiacosOlympiacos      20        495   \n",
       "1         PAOPanathinaikos AthensPanathinaikos Athens      22        441   \n",
       "2                           CSKCSKA MoscowCSKA Moscow      18        413   \n",
       "3                   FORSkipper BolognaSkipper Bologna      20        381   \n",
       "4                             PEMUral GreatUral Great      20        372   \n",
       "..                                                ...     ...        ...   \n",
       "45  CZVCrvena Zvezda mts BelgradeCrvena Zvezda mts...      29        299   \n",
       "46                          CSKCSKA MoscowCSKA Moscow      20        298   \n",
       "47  PAOPanathinaikos OPAP AthensPanathinaikos OPAP...      29        298   \n",
       "48                        BARFC BarcelonaFC Barcelona      37        292   \n",
       "49                              ASMAS MonacoAS Monaco      35        292   \n",
       "\n",
       "     Ave.  Per 40 min.40m  Year  \n",
       "0   24.75           28.09  2001  \n",
       "1   20.05           24.83  2001  \n",
       "2   22.94           26.76  2001  \n",
       "3   19.05           23.88  2001  \n",
       "4   18.60           24.90  2001  \n",
       "..    ...             ...   ...  \n",
       "45  10.31           18.25  2021  \n",
       "46  14.90           21.14  2021  \n",
       "47  10.28           14.47  2021  \n",
       "48   7.89           15.68  2021  \n",
       "49   8.34           18.06  2021  \n",
       "\n",
       "[1050 rows x 8 columns]"
      ]
     },
     "execution_count": 38,
     "metadata": {},
     "output_type": "execute_result"
    }
   ],
   "source": [
    "leaders = pd.concat(dfs)\n",
    "leaders"
   ]
  },
  {
   "cell_type": "code",
   "execution_count": 14,
   "id": "2b23f362",
   "metadata": {},
   "outputs": [],
   "source": []
  },
  {
   "cell_type": "code",
   "execution_count": null,
   "id": "20086ea6-161c-43aa-984b-2ba72ddc63f0",
   "metadata": {},
   "outputs": [],
   "source": []
  },
  {
   "cell_type": "code",
   "execution_count": null,
   "id": "941ba562",
   "metadata": {},
   "outputs": [],
   "source": []
  },
  {
   "cell_type": "code",
   "execution_count": null,
   "id": "9ce15c51",
   "metadata": {},
   "outputs": [],
   "source": []
  },
  {
   "cell_type": "code",
   "execution_count": null,
   "id": "7332f1a0",
   "metadata": {},
   "outputs": [],
   "source": []
  }
 ],
 "metadata": {
  "kernelspec": {
   "display_name": "Python 3.10.4 64-bit",
   "language": "python",
   "name": "python3"
  },
  "language_info": {
   "codemirror_mode": {
    "name": "ipython",
    "version": 3
   },
   "file_extension": ".py",
   "mimetype": "text/x-python",
   "name": "python",
   "nbconvert_exporter": "python",
   "pygments_lexer": "ipython3",
   "version": "3.10.4"
  },
  "vscode": {
   "interpreter": {
    "hash": "09006f559874e96683217fbb9290cb791349e61d18cba76635dcdebcd8b95613"
   }
  }
 },
 "nbformat": 4,
 "nbformat_minor": 5
}
