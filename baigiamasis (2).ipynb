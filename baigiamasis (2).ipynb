{
 "cells": [
  {
   "cell_type": "code",
   "execution_count": 1,
   "id": "8d121e80-6bc9-4b3f-b040-c1c480df68c5",
   "metadata": {},
   "outputs": [],
   "source": [
    "import requests\n",
    "from bs4 import BeautifulSoup\n",
    "import pandas as pd\n",
    "import sqlite3\n",
    "import sqlalchemy\n",
    "from sqlalchemy import create_engine\n",
    "from sqlalchemy.orm import sessionmaker\n",
    "\n"
   ]
  },
  {
   "cell_type": "code",
   "execution_count": 2,
   "id": "4b153781-acd0-4438-8d34-a0df58292b77",
   "metadata": {},
   "outputs": [],
   "source": [
    "#Paimam years į konstanta , ir paimam mums reikiama url\n",
    "years =list(range(2001 ,2022))\n",
    "url_data =\"https://admin.euroleague.net/main/statistics?mode=Leaders&entity=Players&seasonmode=Single&seasoncode=E{}&cat=Score&agg=Accumulated\"\n"
   ]
  },
  {
   "cell_type": "code",
   "execution_count": 3,
   "id": "221a5340-fc60-4ced-951a-0ceea5a70a35",
   "metadata": {
    "tags": []
   },
   "outputs": [],
   "source": [
    "#Pasiimam gautus html failus ir susidedame juos į mums reikiamą folderį\n",
    "\n",
    "def receive_htmls_data_from_web():\n",
    "  for year in years :\n",
    "   url = url_data.format(year)\n",
    "   data = requests.get(url)\n",
    "  with open(\"admin_euroleague/{}.html\".format(year), \"w+\" , encoding=\"utf-8\") as file :\n",
    "    file.write(data.text)\n",
    "    return file \n",
    "    "
   ]
  },
  {
   "cell_type": "code",
   "execution_count": 4,
   "id": "3d356fbe",
   "metadata": {},
   "outputs": [],
   "source": [
    "#Pasiimam mus dominantį html pagal metus , ir pagal lentelės ID ją išsitraukiam priskirdami kintamajam\n",
    "def get_wanted_table(file):\n",
    " with open (\"admin_euroleague/2001.html\",encoding=\"utf-8\") as f :\n",
    "    page =f.read()\n",
    "    soup = BeautifulSoup(page, \"html.parser\")\n",
    "    soup.find('tr',class_=\"stats-results\")\n",
    "    statistics_table=soup.find(id=\"ctl00_ctl00_ctl00_ctl00_maincontainer_maincontent_contentpane_ctl01_stats_results\")\n",
    "    leaders_2001= pd.read_html(str(statistics_table))[0]\n",
    "    return leaders_2001\n",
    " "
   ]
  },
  {
   "cell_type": "code",
   "execution_count": 8,
   "id": "558e6d66-d7db-43ff-991d-8266f686285a",
   "metadata": {},
   "outputs": [],
   "source": [
    "# Susikuriame ryšį su duomenų baze kitame faile \n",
    "engine = create_engine('sqlite:///scorers_01.db')\n",
    "Session = sessionmaker(bind=engine)\n",
    "session = Session()\n",
    "      \n",
    "    "
   ]
  },
  {
   "cell_type": "code",
   "execution_count": 9,
   "id": "03facb62-f33a-4abe-981b-735716549c44",
   "metadata": {},
   "outputs": [],
   "source": [
    "def put_data_into_table(leaders_2001):\n",
    " leaders_2001.to_sql(\n",
    "    name = \"scoring_leaders_01\" ,\n",
    "    con = engine , \n",
    "    index = False ,\n",
    "    if_exists = \"append\"\n",
    ")\n",
    "\n",
    "  "
   ]
  },
  {
   "cell_type": "code",
   "execution_count": 12,
   "id": "85e91ebb-440d-4227-ac25-038908f0dadd",
   "metadata": {},
   "outputs": [
    {
     "name": "stdout",
     "output_type": "stream",
     "text": [
      "<sqlalchemy.engine.cursor.CursorResult object at 0x0000022C3482F7C0>\n"
     ]
    }
   ],
   "source": [
    "leaders_2001_select = session.execute('select * from \"scoring_leaders_01\"')\n",
    "leaders_2001_select.all()\n",
    "print(leaders_2001_select)\n"
   ]
  },
  {
   "cell_type": "code",
   "execution_count": 16,
   "id": "bd7ad977-1abb-493b-9a62-8d41f5fcbee6",
   "metadata": {},
   "outputs": [],
   "source": [
    "def get_scorers_from_all_tables():\n",
    "    dfs = []\n",
    "    for year in years :\n",
    "        with open (\"admin_euroleague/{}.html\".format(year),encoding=\"utf-8\") as f :\n",
    "            page =f.read()\n",
    "            soup = BeautifulSoup(page, \"html.parser\")\n",
    "            soup.find('tr',class_=\"StatsHeaderGridResults\")\n",
    "            statistics_table=soup.find(id=\"ctl00_ctl00_ctl00_ctl00_maincontainer_maincontent_contentpane_ctl01_ctl01_gvResults\")\n",
    "            leaders_2001= pd.read_html(str(statistics_table))[0]\n",
    "            leaders_2001[\"Year\"] = year\n",
    "            dfs.append(leaders_2001)\n",
    "            return dfs"
   ]
  },
  {
   "cell_type": "code",
   "execution_count": 18,
   "id": "dd72c0b8-338f-41fe-bdde-0f763ebe73a3",
   "metadata": {},
   "outputs": [],
   "source": [
    "def make_data_visible(dfs):\n",
    "    leaders = pd.concat(dfs)\n",
    "   \n",
    "        \n",
    "    "
   ]
  },
  {
   "cell_type": "code",
   "execution_count": 10,
   "id": "9620c9a0-78d4-4a79-8177-c4ca4edfebbe",
   "metadata": {},
   "outputs": [],
   "source": [
    "\n"
   ]
  }
 ],
 "metadata": {
  "kernelspec": {
   "display_name": "Python 3.10.4 64-bit",
   "language": "python",
   "name": "python3"
  },
  "language_info": {
   "codemirror_mode": {
    "name": "ipython",
    "version": 3
   },
   "file_extension": ".py",
   "mimetype": "text/x-python",
   "name": "python",
   "nbconvert_exporter": "python",
   "pygments_lexer": "ipython3",
   "version": "3.10.4"
  },
  "vscode": {
   "interpreter": {
    "hash": "09006f559874e96683217fbb9290cb791349e61d18cba76635dcdebcd8b95613"
   }
  }
 },
 "nbformat": 4,
 "nbformat_minor": 5
}
