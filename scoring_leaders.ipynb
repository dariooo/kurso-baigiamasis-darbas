{
 "cells": [
  {
   "cell_type": "code",
   "execution_count": 1,
   "metadata": {},
   "outputs": [],
   "source": [
    "from sqlalchemy import Column, Integer, String, Float, DateTime, create_engine\n",
    "from sqlalchemy.ext.declarative import declarative_base\n",
    "\n",
    "engine = create_engine('sqlite:///scorers_01.db')\n",
    "Base = declarative_base()\n",
    "\n",
    "\n",
    "class Leaders(Base):\n",
    "    __tablename__ = 'scoring_leaders_01'\n",
    "    id = Column(Integer, primary_key=True)\n",
    "    rank = Column(\"Rank\", Integer)\n",
    "    player = Column(\"Player\", String)\n",
    "    team = Column(\"Team\", String)\n",
    "    games = Column(\"Games\", Integer)\n",
    "    points = Column(\"Points\", Integer)\n",
    "    average = Column(\"Average_points\", Float)\n",
    "    per_40_min =Column(\"Average_playing_minutes\", Float)\n",
    "\n",
    "    def __init__(self,rank,player,team, games,points,average,per_40_min):\n",
    "        self.rank = rank\n",
    "        self.player = player\n",
    "        self.team = team\n",
    "        self.games = games\n",
    "        self.points = points\n",
    "        self.average = average\n",
    "        self.per_40_min = per_40_min\n",
    "\n",
    "    def __repr__(self):\n",
    "        return f\"{ self.rank} { self.player} {self.team} {self.games} {self.points} {self.average} { self.per_40_min}\"\n",
    "\n",
    "Base.metadata.create_all(engine)"
   ]
  }
 ],
 "metadata": {
  "kernelspec": {
   "display_name": "Python 3.10.4 64-bit",
   "language": "python",
   "name": "python3"
  },
  "language_info": {
   "codemirror_mode": {
    "name": "ipython",
    "version": 3
   },
   "file_extension": ".py",
   "mimetype": "text/x-python",
   "name": "python",
   "nbconvert_exporter": "python",
   "pygments_lexer": "ipython3",
   "version": "3.10.4"
  },
  "orig_nbformat": 4,
  "vscode": {
   "interpreter": {
    "hash": "09006f559874e96683217fbb9290cb791349e61d18cba76635dcdebcd8b95613"
   }
  }
 },
 "nbformat": 4,
 "nbformat_minor": 2
}
