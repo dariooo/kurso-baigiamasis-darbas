{
 "cells": [
  {
   "cell_type": "code",
   "execution_count": 1,
   "metadata": {},
   "outputs": [],
   "source": [
    "import requests\n",
    "from bs4 import BeautifulSoup\n",
    "import pandas as pd\n",
    "import sqlite3\n",
    "import sqlalchemy\n",
    "from sqlalchemy import create_engine\n",
    "from sqlalchemy.orm import sessionmaker"
   ]
  },
  {
   "cell_type": "code",
   "execution_count": 7,
   "metadata": {},
   "outputs": [],
   "source": [
    "years = list(range(2001, 2022))\n",
    "url_data = \"https://admin.euroleague.net/main/standings\""
   ]
  },
  {
   "cell_type": "code",
   "execution_count": 16,
   "metadata": {},
   "outputs": [],
   "source": [
    "for year in years:\n",
    "    url = url_data.format(year)\n",
    "    data = requests.get(url)\n",
    "with open(\"standings_htmls/{}..html\".format(year), \"w+\" , encoding=\"utf-8\") as file :\n",
    "    file.write(data.text)"
   ]
  },
  {
   "cell_type": "code",
   "execution_count": 17,
   "metadata": {},
   "outputs": [],
   "source": [
    "with open (\"standings_htmls/2021.html\",encoding=\"utf-8\") as f :\n",
    "    page =f.read()"
   ]
  },
  {
   "cell_type": "code",
   "execution_count": 20,
   "metadata": {},
   "outputs": [
    {
     "data": {
      "text/plain": [
       "[<td class=\"eu-game-info-grid-main-column\">\n",
       " <a href=\"/competition/teams/showteam?clubcode=BAR&amp;seasoncode=E2021\">\n",
       " \n",
       "                                  1. FC Barcelona\n",
       " \n",
       "                             </a>\n",
       " </td>,\n",
       " <td class=\"eu-game-info-grid-main-column\">\n",
       " <a href=\"/competition/teams/showteam?clubcode=OLY&amp;seasoncode=E2021\">\n",
       " \n",
       "                                  2. Olympiacos Piraeus\n",
       " \n",
       "                             </a>\n",
       " </td>,\n",
       " <td class=\"eu-game-info-grid-main-column\">\n",
       " <a href=\"/competition/teams/showteam?clubcode=MIL&amp;seasoncode=E2021\">\n",
       " \n",
       "                                  3. AX Armani Exchange Milan\n",
       " \n",
       "                             </a>\n",
       " </td>,\n",
       " <td class=\"eu-game-info-grid-main-column\">\n",
       " <a href=\"/competition/teams/showteam?clubcode=MAD&amp;seasoncode=E2021\">\n",
       " \n",
       "                                  4. Real Madrid\n",
       " \n",
       "                             </a>\n",
       " </td>,\n",
       " <td class=\"eu-game-info-grid-main-column\">\n",
       " <a href=\"/competition/teams/showteam?clubcode=TEL&amp;seasoncode=E2021\">\n",
       " \n",
       "                                  5. Maccabi Playtika Tel Aviv\n",
       " \n",
       "                             </a>\n",
       " </td>,\n",
       " <td class=\"eu-game-info-grid-main-column\">\n",
       " <a href=\"/competition/teams/showteam?clubcode=IST&amp;seasoncode=E2021\">\n",
       " \n",
       "                                  6. Anadolu Efes Istanbul\n",
       " \n",
       "                             </a>\n",
       " </td>,\n",
       " <td class=\"eu-game-info-grid-main-column\">\n",
       " <a href=\"/competition/teams/showteam?clubcode=MCO&amp;seasoncode=E2021\">\n",
       " \n",
       "                                  7. AS Monaco\n",
       " \n",
       "                             </a>\n",
       " </td>,\n",
       " <td class=\"eu-game-info-grid-main-column\">\n",
       " <a href=\"/competition/teams/showteam?clubcode=MUN&amp;seasoncode=E2021\">\n",
       " \n",
       "                                  8. FC Bayern Munich\n",
       " \n",
       "                             </a>\n",
       " </td>,\n",
       " <td class=\"eu-game-info-grid-main-column\">\n",
       " <a href=\"/competition/teams/showteam?clubcode=BAS&amp;seasoncode=E2021\">\n",
       " \n",
       "                                  9. Bitci Baskonia Vitoria-Gasteiz\n",
       " \n",
       "                             </a>\n",
       " </td>,\n",
       " <td class=\"eu-game-info-grid-main-column\">\n",
       " <a href=\"/competition/teams/showteam?clubcode=BER&amp;seasoncode=E2021\">\n",
       " \n",
       "                                  10. ALBA Berlin\n",
       " \n",
       "                             </a>\n",
       " </td>,\n",
       " <td class=\"eu-game-info-grid-main-column\">\n",
       " <a href=\"/competition/teams/showteam?clubcode=RED&amp;seasoncode=E2021\">\n",
       " \n",
       "                                  11. Crvena Zvezda mts Belgrade\n",
       " \n",
       "                             </a>\n",
       " </td>,\n",
       " <td class=\"eu-game-info-grid-main-column\">\n",
       " <a href=\"/competition/teams/showteam?clubcode=ULK&amp;seasoncode=E2021\">\n",
       " \n",
       "                                  12. Fenerbahce Beko Istanbul\n",
       " \n",
       "                             </a>\n",
       " </td>,\n",
       " <td class=\"eu-game-info-grid-main-column\">\n",
       " <a href=\"/competition/teams/showteam?clubcode=PAN&amp;seasoncode=E2021\">\n",
       " \n",
       "                                  13. Panathinaikos OPAP Athens\n",
       " \n",
       "                             </a>\n",
       " </td>,\n",
       " <td class=\"eu-game-info-grid-main-column\">\n",
       " <a href=\"/competition/teams/showteam?clubcode=ASV&amp;seasoncode=E2021\">\n",
       " \n",
       "                                  14. LDLC ASVEL Villeurbanne\n",
       " \n",
       "                             </a>\n",
       " </td>,\n",
       " <td class=\"eu-game-info-grid-main-column\">\n",
       " <a href=\"/competition/teams/showteam?clubcode=ZAL&amp;seasoncode=E2021\">\n",
       " \n",
       "                                  15. Zalgiris Kaunas\n",
       " \n",
       "                             </a>\n",
       " </td>]"
      ]
     },
     "execution_count": 20,
     "metadata": {},
     "output_type": "execute_result"
    }
   ],
   "source": [
    "soup = BeautifulSoup(page, \"html.parser\")\n",
    "soup.findAll(class_=\"eu-game-info-grid-main-column\")\n"
   ]
  }
 ],
 "metadata": {
  "kernelspec": {
   "display_name": "Python 3.10.4 64-bit",
   "language": "python",
   "name": "python3"
  },
  "language_info": {
   "codemirror_mode": {
    "name": "ipython",
    "version": 3
   },
   "file_extension": ".py",
   "mimetype": "text/x-python",
   "name": "python",
   "nbconvert_exporter": "python",
   "pygments_lexer": "ipython3",
   "version": "3.10.4"
  },
  "orig_nbformat": 4,
  "vscode": {
   "interpreter": {
    "hash": "09006f559874e96683217fbb9290cb791349e61d18cba76635dcdebcd8b95613"
   }
  }
 },
 "nbformat": 4,
 "nbformat_minor": 2
}
